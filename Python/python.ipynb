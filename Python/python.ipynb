{
 "cells": [
  {
   "cell_type": "markdown",
   "id": "187e6a47",
   "metadata": {},
   "source": [
    "# Ticket Reservation System"
   ]
  },
  {
   "cell_type": "code",
   "execution_count": 2,
   "id": "f58f6ddb",
   "metadata": {},
   "outputs": [
    {
     "name": "stdout",
     "output_type": "stream",
     "text": [
      "==========================================================================\n",
      "========================================================================\n",
      "========================Ticket Reservation System=======================\n",
      "========================================================================\n",
      "========================================================================\n",
      "Enter number of vistors :1\n",
      "Enter the Name of vistor 1 : Ali\n",
      "Enter the Age of vistor 1 : 12\n",
      "Enter the classes of vistor 1 : A\n",
      "========================================================================\n",
      "========================================================================\n",
      "===========================Vistor Report================================\n",
      "========================================================================\n",
      "========================================================================\n",
      "  Vistor Name Vistor Age Vistor class   Price\n",
      "0         Ali         12            A  1500.0\n",
      "Total Price of All Tickets  :1500.0\n",
      "Thank you for using Our Ticket Reservation System\n"
     ]
    }
   ],
   "source": [
    "import pandas as pd\n",
    "print( \"==========================================================================\")\n",
    "print(\"========================================================================\")\n",
    "print(\"========================Ticket Reservation System=======================\")\n",
    "print(\"========================================================================\")\n",
    "print(\"========================================================================\")\n",
    "\n",
    "number = int(input(\"Enter number of vistors :\"))\n",
    "# creating an empty list for name , age , ticket class\n",
    "name = []\n",
    "age = []\n",
    "classes = []\n",
    "price = []\n",
    "for i in range(0, number):\n",
    "    n = input(\"Enter the Name of vistor \"+str(i+1)+\" : \")\n",
    "    name.append(n)  # adding the element\n",
    "    a = input(\"Enter the Age of vistor \"+str(i+1)+\" : \")\n",
    "    age.append(a)  # adding the element\n",
    "    c = input(\"Enter the classes of vistor \"+str(i+1)+\" : \")\n",
    "    classes.append(c)  # adding the element\n",
    "    if(c == 'A'):\n",
    "        price.append(1500.00)\n",
    "    elif(c == 'B'):\n",
    "        price.append(1200.00)\n",
    "    elif(c == 'C'):\n",
    "        price.append(800.00)\n",
    "\n",
    "    Sum = sum(price)\n",
    "    space = ' '\n",
    "print(\"========================================================================\")\n",
    "print(\"========================================================================\")\n",
    "print(\"===========================Vistor Report================================\")\n",
    "print(\"========================================================================\")\n",
    "print(\"========================================================================\")\n",
    "Vistor_data = {'Vistor Name': name,\n",
    "             'Vistor Age': age,\n",
    "             \"Vistor class\": classes,\n",
    "             'Price': price}\n",
    "df = pd.DataFrame(Vistor_data)\n",
    "print(df)\n",
    "\n",
    "print(\"Total Price of All Tickets  :\"+ str(Sum))\n",
    "print(\"Thank you for using Our Ticket Reservation System\")"
   ]
  },
  {
   "cell_type": "code",
   "execution_count": null,
   "id": "dc5c6593",
   "metadata": {},
   "outputs": [],
   "source": []
  }
 ],
 "metadata": {
  "kernelspec": {
   "display_name": "Python 3",
   "language": "python",
   "name": "python3"
  },
  "language_info": {
   "codemirror_mode": {
    "name": "ipython",
    "version": 3
   },
   "file_extension": ".py",
   "mimetype": "text/x-python",
   "name": "python",
   "nbconvert_exporter": "python",
   "pygments_lexer": "ipython3",
   "version": "3.8.8"
  }
 },
 "nbformat": 4,
 "nbformat_minor": 5
}
